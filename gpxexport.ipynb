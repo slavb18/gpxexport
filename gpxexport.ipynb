{
 "cells": [
  {
   "cell_type": "code",
   "execution_count": 21,
   "metadata": {},
   "outputs": [
    {
     "data": {
      "text/html": [
       "<div>\n",
       "<style scoped>\n",
       "    .dataframe tbody tr th:only-of-type {\n",
       "        vertical-align: middle;\n",
       "    }\n",
       "\n",
       "    .dataframe tbody tr th {\n",
       "        vertical-align: top;\n",
       "    }\n",
       "\n",
       "    .dataframe thead th {\n",
       "        text-align: right;\n",
       "    }\n",
       "</style>\n",
       "<table border=\"1\" class=\"dataframe\">\n",
       "  <thead>\n",
       "    <tr style=\"text-align: right;\">\n",
       "      <th></th>\n",
       "      <th>CAD_N</th>\n",
       "      <th>STATUS</th>\n",
       "      <th>C_COST</th>\n",
       "      <th>AREA</th>\n",
       "      <th>UTL_ID</th>\n",
       "      <th>UTL_DOC</th>\n",
       "      <th>OBJ_WKT</th>\n",
       "    </tr>\n",
       "  </thead>\n",
       "  <tbody>\n",
       "    <tr>\n",
       "      <th>0</th>\n",
       "      <td>18:08:000000:1</td>\n",
       "      <td>1</td>\n",
       "      <td>7638510.0</td>\n",
       "      <td>5860000.0</td>\n",
       "      <td>003001000000</td>\n",
       "      <td>Для размещения подсобного хозяйства &amp;quot;Чужь...</td>\n",
       "      <td>NaN</td>\n",
       "    </tr>\n",
       "    <tr>\n",
       "      <th>1</th>\n",
       "      <td>18:08:000000:100</td>\n",
       "      <td>1</td>\n",
       "      <td>1470.42</td>\n",
       "      <td>25.2</td>\n",
       "      <td>003003000000</td>\n",
       "      <td>Подстанции и линии электропередач</td>\n",
       "      <td>NaN</td>\n",
       "    </tr>\n",
       "    <tr>\n",
       "      <th>2</th>\n",
       "      <td>18:08:000000:1000</td>\n",
       "      <td>1</td>\n",
       "      <td>67620.0</td>\n",
       "      <td>1000.0</td>\n",
       "      <td>003002000000</td>\n",
       "      <td>Для индивидуального жилищного строительства</td>\n",
       "      <td>NaN</td>\n",
       "    </tr>\n",
       "    <tr>\n",
       "      <th>3</th>\n",
       "      <td>18:08:000000:1001</td>\n",
       "      <td>1</td>\n",
       "      <td>67620.0</td>\n",
       "      <td>1000.0</td>\n",
       "      <td>003002000000</td>\n",
       "      <td>Для ведения личного подсобного хозяйства</td>\n",
       "      <td>NaN</td>\n",
       "    </tr>\n",
       "    <tr>\n",
       "      <th>4</th>\n",
       "      <td>18:08:000000:1002</td>\n",
       "      <td>1</td>\n",
       "      <td>67620.0</td>\n",
       "      <td>1000.0</td>\n",
       "      <td>003002000000</td>\n",
       "      <td>Для ведения личного подсобного хозяйства</td>\n",
       "      <td>NaN</td>\n",
       "    </tr>\n",
       "  </tbody>\n",
       "</table>\n",
       "</div>"
      ],
      "text/plain": [
       "               CAD_N  STATUS     C_COST       AREA        UTL_ID  \\\n",
       "0     18:08:000000:1       1  7638510.0  5860000.0  003001000000   \n",
       "1   18:08:000000:100       1    1470.42       25.2  003003000000   \n",
       "2  18:08:000000:1000       1    67620.0     1000.0  003002000000   \n",
       "3  18:08:000000:1001       1    67620.0     1000.0  003002000000   \n",
       "4  18:08:000000:1002       1    67620.0     1000.0  003002000000   \n",
       "\n",
       "                                             UTL_DOC OBJ_WKT  \n",
       "0  Для размещения подсобного хозяйства &quot;Чужь...     NaN  \n",
       "1                  Подстанции и линии электропередач     NaN  \n",
       "2        Для индивидуального жилищного строительства     NaN  \n",
       "3           Для ведения личного подсобного хозяйства     NaN  \n",
       "4           Для ведения личного подсобного хозяйства     NaN  "
      ]
     },
     "execution_count": 21,
     "metadata": {},
     "output_type": "execute_result"
    }
   ],
   "source": [
    "# Импорт библиотек\n",
    "import pandas as pd\n",
    "\n",
    "\n",
    "df = pd.read_csv('data.csv')\n",
    "# df.head()\n",
    "#df['Кадастровый']\n",
    "kad = pd.read_csv('cad_parcel_18_18_8_20160815.csv',sep=',',quotechar='\"') #,nrows=40\n",
    "#kad['CAD_N']\n",
    "kad.head()"
   ]
  },
  {
   "cell_type": "code",
   "execution_count": 43,
   "metadata": {},
   "outputs": [],
   "source": [
    "kfil=kad[kad.CAD_N.isin(df['Кадастровый']) & ~kad.OBJ_WKT.isnull()]\n",
    "kfil.head()\n",
    "kfil.to_csv('kad.csv')"
   ]
  },
  {
   "cell_type": "markdown",
   "metadata": {},
   "source": []
  },
  {
   "cell_type": "code",
   "execution_count": 34,
   "metadata": {},
   "outputs": [
    {
     "data": {
      "text/plain": [
       "27863      POINT (53.3830630137123 56.96797909878849)\n",
       "27976     POINT (53.38181048480494 56.96844800559616)\n",
       "39055     POINT (53.25883562405096 56.96063733514224)\n",
       "39110     POINT (53.26499932577786 56.96647624661885)\n",
       "57929     POINT (53.31037723183299 56.95927169703171)\n",
       "58458      POINT (53.2906361429935 56.97084234251059)\n",
       "58601     POINT (53.29078922807039 56.96860961844487)\n",
       "58681     POINT (53.29364056260788 56.96924295061728)\n",
       "58682     POINT (53.29391465916395 56.96945330690254)\n",
       "58726     POINT (53.29417444672208 56.96965278925072)\n",
       "60242     POINT (53.29313678387371 56.96516274670935)\n",
       "60917     POINT (53.26849510944227 56.97501504548737)\n",
       "60922     POINT (53.27025665347684 56.97443669212547)\n",
       "60939     POINT (53.26462817692875 56.97527891095915)\n",
       "62673     POINT (53.29501452420934 56.96466997639651)\n",
       "70614     POINT (53.37590151720003 56.97207604652214)\n",
       "73346     POINT (53.26367090708177 56.97379092175605)\n",
       "83776     POINT (53.28855084210967 56.95133082887126)\n",
       "83777      POINT (53.2890066819149 56.95113917000315)\n",
       "83778     POINT (53.28939739110986 56.95097487327953)\n",
       "83986      POINT (53.28640054432375 56.9490454007594)\n",
       "85918     POINT (53.38564479864228 56.95759975637876)\n",
       "183320     POINT (53.2910840362506 56.96382608081608)\n",
       "Name: OBJ_WKT, dtype: object"
      ]
     },
     "execution_count": 34,
     "metadata": {},
     "output_type": "execute_result"
    }
   ],
   "source": [
    "import shapely.wkt\n",
    "\n",
    "#    Returns a representation of the object’s geometric centroid (point).\n",
    "\n",
    "points=kfil.OBJ_WKT.map(shapely.wkt.loads).map(lambda x: x.centroid)\n",
    "points\n"
   ]
  },
  {
   "cell_type": "code",
   "execution_count": 39,
   "metadata": {},
   "outputs": [],
   "source": [
    "import gpxpy\n",
    "import gpxpy.gpx\n",
    "\n",
    "def writegpx(points):\n",
    "    gpx = gpxpy.gpx.GPX()\n",
    "\n",
    "    # Create first track in our GPX:\n",
    "    gpx_track = gpxpy.gpx.GPXTrack()\n",
    "    gpx.tracks.append(gpx_track)\n",
    "\n",
    "    # Create first segment in our GPX track:\n",
    "    gpx_segment = gpxpy.gpx.GPXTrackSegment()\n",
    "    gpx_track.segments.append(gpx_segment)\n",
    "\n",
    "    # Create points:\n",
    "    points.map(lambda p: gpx_segment.points.append(gpxpy.gpx.GPXTrackPoint(p.x, p.y)))\n",
    "    \n",
    "    #gpx_segment.points.append(gpxpy.gpx.GPXTrackPoint(2.1234, 5.1234, elevation=1234))\n",
    "    #gpx_segment.points.append(gpxpy.gpx.GPXTrackPoint(2.1235, 5.1235, elevation=1235))\n",
    "    #gpx_segment.points.append(gpxpy.gpx.GPXTrackPoint(2.1236, 5.1236, elevation=1236))\n",
    "\n",
    "    # You can add routes and waypoints, too...\n",
    "\n",
    "    #print('Created GPX:', gpx.to_xml())\n",
    "    return gpx.to_xml()\n"
   ]
  },
  {
   "cell_type": "code",
   "execution_count": 40,
   "metadata": {},
   "outputs": [],
   "source": [
    "gpx=writegpx(points)\n",
    "f = open(\"points.gpx\", \"w\")\n",
    "f.write(gpx)\n",
    "f.close()"
   ]
  },
  {
   "cell_type": "code",
   "execution_count": null,
   "metadata": {},
   "outputs": [],
   "source": []
  },
  {
   "cell_type": "code",
   "execution_count": null,
   "metadata": {},
   "outputs": [],
   "source": []
  }
 ],
 "metadata": {
  "kernelspec": {
   "display_name": "Python 3",
   "language": "python",
   "name": "python3"
  },
  "language_info": {
   "codemirror_mode": {
    "name": "ipython",
    "version": 3
   },
   "file_extension": ".py",
   "mimetype": "text/x-python",
   "name": "python",
   "nbconvert_exporter": "python",
   "pygments_lexer": "ipython3",
   "version": "3.6.10"
  }
 },
 "nbformat": 4,
 "nbformat_minor": 2
}
